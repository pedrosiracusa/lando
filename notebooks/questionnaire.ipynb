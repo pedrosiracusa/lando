{
 "cells": [
  {
   "cell_type": "markdown",
   "metadata": {},
   "source": [
    "# Questionnaire"
   ]
  },
  {
   "cell_type": "markdown",
   "metadata": {},
   "source": [
    "<img src=\"img/questionnaire_diagram.png\" width=500px/>"
   ]
  },
  {
   "cell_type": "markdown",
   "metadata": {},
   "source": [
    "Questionnaires rely on 4 classes:\n",
    "\n",
    "* **Question**: A question to be addressed to the user. Receives user input, parses it and sends to an action;\n",
    "* **Action**: Processes user input. Results are used to update the context;\n",
    "* **Context**: Stores user collected data and state. Controls the questions flow in the DAG, gets next question and orchestrates the response.\n",
    "* **Response**: Formats and sends a response to the user. "
   ]
  },
  {
   "cell_type": "markdown",
   "metadata": {},
   "source": [
    "### Questions"
   ]
  },
  {
   "cell_type": "code",
   "execution_count": 1,
   "metadata": {},
   "outputs": [],
   "source": [
    "class Question:\n",
    "    def __init__(self, name, **attr):\n",
    "        self.name=name\n",
    "        self.attr=attr\n",
    "        \n",
    "        self.prompt = attr.get(\"prompt\")\n",
    "        self.options = attr.get(\"options\")\n",
    "        self.options_text = attr.get(\"options_text\")\n",
    "        self.next = attr.get(\"next\")\n",
    "        self.user_input_type = attr.get(\"input_type\")\n",
    "        \n",
    "        \n",
    "    def getOptions(self):\n",
    "        \"\"\"\n",
    "        Returns a dictionary mapping choices (int) to their respective texts.\n",
    "        \"\"\"\n",
    "        if self.options is None: return None\n",
    "        return { o:t for o,t in zip(self.options, self.options_text) }\n",
    "    \n",
    "    def saveUserInput(self, inpt):\n",
    "        \"\"\"\n",
    "        Saves user response (input) to the question.\n",
    "        input type: 'text','number','choice'\n",
    "        \"\"\"\n",
    "        self.user_input = { 'text':str, \n",
    "                            'number':float, \n",
    "                            'choice':int }[self.user_input_type]( inpt )\n",
    "        \n",
    "    def isFinalQuestion(self):\n",
    "        return True if self.next is None else False\n",
    "    \n",
    "    def attachResponse(self, response):\n",
    "        self.response=response\n",
    "        \n",
    "    def respond(self):\n",
    "        if not hasattr(self,'response'):\n",
    "            return None\n",
    "        \n",
    "        return self.response.getResponse(self.user_input)\n",
    "\n",
    "    \n",
    "    def checkUserInput(self):\n",
    "        return self.user_input\n",
    "    \n",
    "    def getNextQuestionName(self):\n",
    "        \"\"\"\n",
    "        Checks user input to determine the next question in the graph.\n",
    "        \"\"\"\n",
    "        if len(self.next)>1:\n",
    "            return self.next[ self.options.index(self.checkUserInput()) ]\n",
    "        else:\n",
    "            return self.next[0]\n",
    "        \n",
    "    def promptMessage(self):\n",
    "        \"\"\"\n",
    "        Properly formats a message to be prompted to the user.\n",
    "        \"\"\"\n",
    "        if self.user_input_type=='choice':\n",
    "            return f\"{self.prompt} {self.getOptions()}\"\n",
    "        else:\n",
    "            return self.prompt"
   ]
  },
  {
   "cell_type": "markdown",
   "metadata": {},
   "source": [
    "### Responses"
   ]
  },
  {
   "cell_type": "markdown",
   "metadata": {},
   "source": [
    "Responses are associated to questions"
   ]
  },
  {
   "cell_type": "code",
   "execution_count": 2,
   "metadata": {},
   "outputs": [],
   "source": [
    "class Response:\n",
    "    def __init__(self, **attr):\n",
    "        \n",
    "        self.message=attr.get('message')\n",
    "        self.condition=attr.get('condition')\n",
    "        \n",
    "        \n",
    "    def getResponse(self, user_input):       \n",
    "        if self.condition:\n",
    "            return self.condition(user_input)\n",
    "        else:\n",
    "            return self.message"
   ]
  },
  {
   "cell_type": "markdown",
   "metadata": {},
   "source": [
    "### Questionnaires"
   ]
  },
  {
   "cell_type": "code",
   "execution_count": 3,
   "metadata": {},
   "outputs": [],
   "source": [
    "class Questionnaire:\n",
    "    \"\"\"\n",
    "    Stores a graph of questions and runs it; keeps track of interactions using a context dictionary.\n",
    "    \"\"\"\n",
    "    def __init__(self, questionnaire_dict=None):\n",
    "        \"\"\"\n",
    "        Questionnaire dict to be used to build the instance\n",
    "        \"\"\"\n",
    "        self.context = dict()\n",
    "        \n",
    "        if questionnaire_dict:\n",
    "            self.questions = { qname: Question(qname,**qattrs) for qname, qattrs in questionnaire_dict.items() }\n",
    "\n",
    "    def run(self, initialQuestion='q1'):\n",
    "        currentQuestion = self.questions.get(initialQuestion)\n",
    "        finish=False\n",
    "        \n",
    "        while not finish:\n",
    "                \n",
    "            self.context['current_question'] = currentQuestion.name\n",
    "\n",
    "            response = input(currentQuestion.promptMessage())\n",
    "            currentQuestion.saveUserInput(response)\n",
    "            self.context[currentQuestion.name] = currentQuestion.checkUserInput()\n",
    "            \n",
    "            print(currentQuestion.respond())\n",
    "            \n",
    "            if not currentQuestion.isFinalQuestion():\n",
    "                currentQuestion = self.questions.get(currentQuestion.getNextQuestionName())\n",
    "            else:\n",
    "                finish=True\n",
    "            \n",
    "            \n",
    "        return self.context"
   ]
  },
  {
   "cell_type": "markdown",
   "metadata": {},
   "source": [
    "---"
   ]
  },
  {
   "cell_type": "markdown",
   "metadata": {},
   "source": [
    "## Building a questionnaire"
   ]
  },
  {
   "cell_type": "markdown",
   "metadata": {},
   "source": [
    "One way to build and store a questionnaire is by using a JSON-like strucutre (dict in Python):"
   ]
  },
  {
   "cell_type": "code",
   "execution_count": 4,
   "metadata": {},
   "outputs": [],
   "source": [
    "questionnaire = {\n",
    "    'q1': {\n",
    "        \"prompt\": \"Oi! Me chamo Lando! Sou um assistente de terras. Qual seu nome?\",\n",
    "        \"input_type\": \"text\",\n",
    "        \"next\":['q2']\n",
    "          },\n",
    "    'q2': {\n",
    "        \"prompt\": \"E sua idade?\",\n",
    "        \"input_type\": \"number\",\n",
    "        \"next\":['q3']\n",
    "    },\n",
    "    'q3': {\n",
    "        \"prompt\": \"Primeiro preciso saber sobre a situação do seu solo. Ele está degradado?\",\n",
    "        \"input_type\": \"choice\",\n",
    "        \"options\": [0,1],\n",
    "        \"options_text\": [\"não\",\"sim\"],\n",
    "        \"next\": ['q4']\n",
    "    },\n",
    "    'q4': {\n",
    "        \"prompt\": \"E pecuária? Tem pecuária na vizinhança?\",\n",
    "        \"input_type\": \"choice\",\n",
    "        \"options\": [0,1],\n",
    "        \"options_text\": [ \"não\", \"sim\"],\n",
    "        \"next\": ['q5']\n",
    "    },\n",
    "    'q5': {\n",
    "        \"prompt\": \"Tem risco de incêndio?\",\n",
    "        \"input_type\": \"choice\",\n",
    "        \"options\": [0,1],\n",
    "        \"options_text\": [ \"não\", \"sim\"],\n",
    "        \"next\": ['q6']\n",
    "    },\n",
    "    'q6': {\n",
    "        \"prompt\": \"Qual o potencial de regeneração natural?\",\n",
    "        \"input_type\": \"choice\",\n",
    "        \"options\": [0,1],\n",
    "        \"options_text\": [ \"baixo potencial\", \"alto potencial\"],\n",
    "        \"next\": ['q7','q8']\n",
    "    },\n",
    "    'q7':{\n",
    "        \"prompt\": \"Prefere plantar mudas ou semear?\",\n",
    "        \"input_type\": \"choice\",\n",
    "        \"options\": [0,1],\n",
    "        \"options_text\": [\"plantar mudas\", \"semear\"],\n",
    "        \"next\": ['q9', 'q10']\n",
    "    },\n",
    "    'q8':{\n",
    "        \"prompt\": \"Prefere manejar a regeneração natural ou não?\",\n",
    "        \"input_type\": \"choice\",\n",
    "        \"options\": [0,1],\n",
    "        \"options_text\": [\"não manejar\", \"manejar\"]\n",
    "    },\n",
    "    'q9':{\n",
    "        \"prompt\": \"Que tipo de muda?\",\n",
    "        \"input_type\": \"text\"\n",
    "    },\n",
    "    'q10':{\n",
    "        \"prompt\": \"Que sementes?\",\n",
    "        \"input_type\": \"text\"\n",
    "    }\n",
    "}"
   ]
  },
  {
   "cell_type": "markdown",
   "metadata": {},
   "source": [
    "Let's test it!"
   ]
  },
  {
   "cell_type": "code",
   "execution_count": 5,
   "metadata": {},
   "outputs": [],
   "source": [
    "q = Questionnaire(questionnaire)"
   ]
  },
  {
   "cell_type": "code",
   "execution_count": null,
   "metadata": {},
   "outputs": [],
   "source": []
  },
  {
   "cell_type": "code",
   "execution_count": 6,
   "metadata": {},
   "outputs": [],
   "source": [
    "# Response to q1\n",
    "q.questions['q1'].attachResponse( Response( condition=lambda x: f\"Prazer em conhecê-lo, {x}\" ) )\n",
    "\n",
    "# Response to q2\n",
    "def cond(x):\n",
    "    if x>=50:\n",
    "        return \"Nunca é tarde para começar!\"\n",
    "    elif x>=30:\n",
    "        return \"Boa idade!\"\n",
    "    elif x>=18:\n",
    "        return \"É ótimo começar cedo!\"\n",
    "    else:\n",
    "        return \"Você tem certeza que deveria estar usando este app?\"\n",
    "q.questions['q2'].attachResponse( Response( condition=cond ) )\n",
    "\n",
    "# Response to q3\n",
    "q.questions['q3'].attachResponse( Response( condition=lambda x: 'Certo... antes você precisará recuperar seu solo.' if x==1 else 'Ótimo!' ) )\n",
    "\n",
    "# Response to q4\n",
    "q.questions['q4'].attachResponse( Response( condition=lambda x: 'Entendo... é importante que vc cerque a área, ok?' if x==1 else 'Bom!') )\n",
    "\n",
    "# Response to q5\n",
    "q.questions['q5'].attachResponse( Response( condition=lambda x: 'Que tal construir um aceiro?' if x==1 else 'Bom!' ) )"
   ]
  },
  {
   "cell_type": "code",
   "execution_count": 7,
   "metadata": {},
   "outputs": [
    {
     "name": "stdout",
     "output_type": "stream",
     "text": [
      "Oi! Me chamo Lando! Sou um assistente de terras. Qual seu nome?Pedro\n",
      "Prazer em conhecê-lo, Pedro\n",
      "E sua idade?28\n",
      "É ótimo começar cedo!\n",
      "Primeiro preciso saber sobre a situação do seu solo. Ele está degradado? {0: 'não', 1: 'sim'}1\n",
      "Certo... antes você precisará recuperar seu solo.\n",
      "E pecuária? Tem pecuária na vizinhança? {0: 'não', 1: 'sim'}0\n",
      "Bom!\n",
      "Tem risco de incêndio? {0: 'não', 1: 'sim'}1\n",
      "Que tal construir um aceiro?\n",
      "Qual o potencial de regeneração natural? {0: 'baixo potencial', 1: 'alto potencial'}0\n",
      "None\n",
      "Prefere plantar mudas ou semear? {0: 'plantar mudas', 1: 'semear'}0\n",
      "None\n",
      "Que tipo de muda?não sei...\n",
      "None\n"
     ]
    },
    {
     "data": {
      "text/plain": [
       "{'current_question': 'q9',\n",
       " 'q1': 'Pedro',\n",
       " 'q2': 28.0,\n",
       " 'q3': 1,\n",
       " 'q4': 0,\n",
       " 'q5': 1,\n",
       " 'q6': 0,\n",
       " 'q7': 0,\n",
       " 'q9': 'não sei...'}"
      ]
     },
     "execution_count": 7,
     "metadata": {},
     "output_type": "execute_result"
    }
   ],
   "source": [
    "q.run()"
   ]
  }
 ],
 "metadata": {
  "kernelspec": {
   "display_name": "Python 3",
   "language": "python",
   "name": "python3"
  },
  "language_info": {
   "codemirror_mode": {
    "name": "ipython",
    "version": 3
   },
   "file_extension": ".py",
   "mimetype": "text/x-python",
   "name": "python",
   "nbconvert_exporter": "python",
   "pygments_lexer": "ipython3",
   "version": "3.6.5"
  }
 },
 "nbformat": 4,
 "nbformat_minor": 2
}
