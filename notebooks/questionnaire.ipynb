{
 "cells": [
  {
   "cell_type": "markdown",
   "metadata": {},
   "source": [
    "# Questionnaire"
   ]
  },
  {
   "cell_type": "markdown",
   "metadata": {},
   "source": [
    "Nodes in the questionnaire have two possible types: **Questions** or **Actions**:\n",
    "\n",
    "* **Questions**: interact with the user;\n",
    "* **Actions**: process user input. Actions are stored in the user **profile**."
   ]
  },
  {
   "cell_type": "code",
   "execution_count": 1,
   "metadata": {},
   "outputs": [],
   "source": [
    "class Node:\n",
    "    def __init__(self, id, text):\n",
    "        self.id = id\n",
    "        self.text = text\n",
    "        self.num_children = 0\n",
    "        \n",
    "    def __repr__(self):\n",
    "        return f\"<{self.type} {self.id}: {self.text}>\"\n",
    "        \n",
    "    def setNext(self, l):\n",
    "        self.num_children=len(l)\n",
    "        self.next = l\n",
    "        \n",
    "    def getNext(self, i):\n",
    "        try:\n",
    "            return self.next[i]\n",
    "        except:\n",
    "            return None\n",
    "    \n",
    "class Action(Node):\n",
    "    def __init__(self, id, text):\n",
    "        super().__init__(id, text)\n",
    "        self.type='action'\n",
    "        \n",
    "class Question(Node):\n",
    "    def __init__(self, id, text):\n",
    "        super().__init__(id, text)\n",
    "        self.type='question'"
   ]
  },
  {
   "cell_type": "markdown",
   "metadata": {},
   "source": [
    "Questionnaires store and run the questions/actions graph. They are built from a json-like object (dict, in Python)."
   ]
  },
  {
   "cell_type": "code",
   "execution_count": 2,
   "metadata": {},
   "outputs": [],
   "source": [
    "class Questionnaire:\n",
    "    def __init__(self, q):\n",
    "        # Set actions and questions\n",
    "        # The first question must be named q0\n",
    "        actions = q.get('actions')\n",
    "        questions = q.get('questions')\n",
    "            \n",
    "        self.nodes = dict()\n",
    "        self.actions = dict()\n",
    "        for a_id, a in actions.items():\n",
    "            self.actions[a_id] = Action(a_id,a.get(\"text\"))\n",
    "            self.nodes[a_id] = self.actions[a_id]\n",
    "        \n",
    "        self.questions = dict()\n",
    "        for q_id, q in questions.items():\n",
    "            self.questions[q_id] = Question(q_id, q.get(\"text\"))\n",
    "            self.nodes[q_id] = self.questions[q_id]\n",
    "            \n",
    "        # set children\n",
    "        for q_id, q in self.questions.items():\n",
    "            q.setNext( [ self.nodes.get(i) for i in questions.get(q_id).get(\"children\")] )\n",
    "        for a_id, a in self.actions.items():\n",
    "            a.setNext( [ self.nodes.get(i) for i in actions.get(a_id).get(\"children\")] )\n",
    "            \n",
    "            \n",
    "                      \n",
    "    def run(self):\n",
    "        currNode = self.questions.get('q0')\n",
    "        results = []\n",
    "\n",
    "        while True:\n",
    "            if currNode.type=='question':\n",
    "                inp = int (input(f\"{currNode.text}\"))\n",
    "                currNode = currNode.next[inp]\n",
    "\n",
    "            elif currNode.type=='action':\n",
    "                \n",
    "                # action is a leaf\n",
    "                if currNode.num_children==0:\n",
    "                    results += [ currNode.id ]\n",
    "                    return results\n",
    "                \n",
    "                # action is not a leaf\n",
    "                elif currNode.num_children==1:\n",
    "                    results = results + [ currNode.id ]\n",
    "                    currNode = currNode.next[0]\n",
    "\n",
    "                # Multiple actions possible: list all and record the selected one\n",
    "                else:\n",
    "                    results += [ currNode.id ]\n",
    "                    for i,a in enumerate(currNode.next):\n",
    "                        print(f\"Opção {i}:\",a.text)\n",
    "                        \n",
    "                    inp = int(input(\"Escolha uma opção acima\"))\n",
    "                    \n",
    "                    currNode = currNode.getNext(inp)\n",
    "\n",
    "        return results"
   ]
  },
  {
   "cell_type": "code",
   "execution_count": 3,
   "metadata": {},
   "outputs": [],
   "source": [
    "questionnaire = {\n",
    "    'questions':{\n",
    "        'q0': { \"text\": \"O solo está degradado?\", \"children\": ['q1','a0'] },\n",
    "        'q1': { \"text\": \"Tem pecuária na vizinhança?\", \"children\": ['q2','a1'] },\n",
    "        'q2': { \"text\": \"Tem risco de incêndio?\", \"children\":['a3','a2'] },\n",
    "        'q3': { \"text\": \"Qual o potencial de regeneração natural? (0=baixo, 1=alto)\", \"children\":['a5', 'a6'] },\n",
    "    },\n",
    "    'actions':{\n",
    "        'a0': { \"text\": \"Recuper o solo\", \"children\": ['q1'] },\n",
    "        'a1': { \"text\": \"Cercar\", \"children\": ['q2'] },\n",
    "        'a2': { \"text\": \"Acerar\", \"children\": ['a3'] },\n",
    "        'a3': { \"text\": \"Restauração\", \"children\": ['q3'] },\n",
    "        'a4': { \"text\": \"Restauração com produtividade saf/floresta de uso múltiplo\", \"children\": []},\n",
    "        'a5': { \"text\": \"Baixo potencial de regeneração natural\", \"children\": ['a9','a10'] },\n",
    "        'a6': { \"text\": \"Alto potencial de regeneração natural\", \"children\": ['a7','a8'] },\n",
    "        'a7': { \"text\": \"Permitir regeneração natural\", \"children\":[] },\n",
    "        'a8': { \"text\": \"Manejar a regeneração natural\", \"children\":[] },\n",
    "        'a9': { \"text\": \"Plantio de mudas\", \"children\": [] },\n",
    "        'a10': { \"text\": \"Semeadura direta\", \"children\": ['a11','a12'] },\n",
    "        'a11': { \"text\": \"Semeadura direta em área total\", \"children\": [] },\n",
    "        'a12': { \"text\": \"Semeadura direta em linha\", \"children\": [] }\n",
    "    }\n",
    "}"
   ]
  },
  {
   "cell_type": "code",
   "execution_count": 4,
   "metadata": {},
   "outputs": [],
   "source": [
    "quest = Questionnaire(questionnaire)"
   ]
  },
  {
   "cell_type": "code",
   "execution_count": 5,
   "metadata": {},
   "outputs": [
    {
     "name": "stdout",
     "output_type": "stream",
     "text": [
      "O solo está degradado?1\n",
      "Tem pecuária na vizinhança?0\n",
      "Tem risco de incêndio?0\n",
      "Qual o potencial de regeneração natural? (0=baixo, 1=alto)0\n",
      "Opção 0: Plantio de mudas\n",
      "Opção 1: Semeadura direta\n",
      "Escolha uma opção acima1\n",
      "Opção 0: Semeadura direta em área total\n",
      "Opção 1: Semeadura direta em linha\n",
      "Escolha uma opção acima0\n"
     ]
    }
   ],
   "source": [
    "res = quest.run()"
   ]
  },
  {
   "cell_type": "code",
   "execution_count": 6,
   "metadata": {},
   "outputs": [
    {
     "data": {
      "text/plain": [
       "['a0', 'a3', 'a5', 'a10', 'a11']"
      ]
     },
     "execution_count": 6,
     "metadata": {},
     "output_type": "execute_result"
    }
   ],
   "source": [
    "res"
   ]
  }
 ],
 "metadata": {
  "kernelspec": {
   "display_name": "Python 3",
   "language": "python",
   "name": "python3"
  },
  "language_info": {
   "codemirror_mode": {
    "name": "ipython",
    "version": 3
   },
   "file_extension": ".py",
   "mimetype": "text/x-python",
   "name": "python",
   "nbconvert_exporter": "python",
   "pygments_lexer": "ipython3",
   "version": "3.6.5"
  }
 },
 "nbformat": 4,
 "nbformat_minor": 2
}
