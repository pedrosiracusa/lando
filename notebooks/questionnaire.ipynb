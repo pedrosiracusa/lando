{
 "cells": [
  {
   "cell_type": "markdown",
   "metadata": {},
   "source": [
    "# Questionnaire"
   ]
  },
  {
   "cell_type": "markdown",
   "metadata": {},
   "source": [
    "Questionnaires rely on 4 classes:\n",
    "\n",
    "* **Question**: A question to be addressed to the user. Receives user input, parses and stores it;\n",
    "* **Response**: A response is attached to each question. It evaluates user input in execution time, formats and sends a response to the user.\n",
    "* **Questionnaire**: Stores the graph-like structure of the questionnaire. Also, controls the flow of interaction with user;\n",
    "* **Context**: Stores user collected data and state, for a REST communication."
   ]
  },
  {
   "cell_type": "markdown",
   "metadata": {},
   "source": [
    "### Questions"
   ]
  },
  {
   "cell_type": "code",
   "execution_count": 1,
   "metadata": {},
   "outputs": [],
   "source": [
    "class Question:\n",
    "    def __init__(self, name, **attr):\n",
    "        self.name=name\n",
    "        self.attr=attr\n",
    "        \n",
    "        self.prompt = attr.get(\"prompt\")\n",
    "        self.options = attr.get(\"options\")\n",
    "        self.options_text = attr.get(\"options_text\")\n",
    "        self.next = attr.get(\"next\")\n",
    "        self.user_input_type = attr.get(\"input_type\")\n",
    "        \n",
    "        \n",
    "    def getOptions(self):\n",
    "        \"\"\"\n",
    "        Returns a dictionary mapping choices (int) to their respective texts.\n",
    "        \"\"\"\n",
    "        if self.options is None: return None\n",
    "        return { o:t for o,t in zip(self.options, self.options_text) }\n",
    "    \n",
    "    def saveUserInput(self, inpt):\n",
    "        \"\"\"\n",
    "        Saves user response (input) to the question.\n",
    "        input type: 'text','number','choice'\n",
    "        \"\"\"\n",
    "        self.user_input = { 'text':str, \n",
    "                            'number':float, \n",
    "                            'choice':int }[self.user_input_type]( inpt )\n",
    "        \n",
    "    def isFinalQuestion(self):\n",
    "        return True if self.next is None else False\n",
    "    \n",
    "    def attachResponse(self, response):\n",
    "        self.response=response\n",
    "        \n",
    "    def respond(self):\n",
    "        if not hasattr(self,'response'):\n",
    "            return None\n",
    "        \n",
    "        return self.response.getResponse(self.user_input)\n",
    "\n",
    "    \n",
    "    def checkUserInput(self):\n",
    "        return self.user_input\n",
    "    \n",
    "    def getNextQuestionName(self):\n",
    "        \"\"\"\n",
    "        Checks user input to determine the next question in the graph.\n",
    "        \"\"\"\n",
    "        if self.next is None:\n",
    "            return None\n",
    "        \n",
    "        if len(self.next)>1:\n",
    "            return self.next[ self.options.index(self.checkUserInput()) ]\n",
    "        else:\n",
    "            return self.next[0]\n",
    "        \n",
    "    def promptMessage(self):\n",
    "        \"\"\"\n",
    "        Properly formats a message to be prompted to the user.\n",
    "        \"\"\"\n",
    "        if self.user_input_type=='choice':\n",
    "            return f\"{self.prompt} {self.getOptions()}\"\n",
    "        else:\n",
    "            return self.prompt"
   ]
  },
  {
   "cell_type": "markdown",
   "metadata": {},
   "source": [
    "### Responses"
   ]
  },
  {
   "cell_type": "markdown",
   "metadata": {},
   "source": [
    "Responses are associated to questions"
   ]
  },
  {
   "cell_type": "code",
   "execution_count": 2,
   "metadata": {},
   "outputs": [],
   "source": [
    "class Response:\n",
    "    def __init__(self, **attr):\n",
    "        \n",
    "        self.message=attr.get('message')\n",
    "        self.condition=attr.get('condition')\n",
    "        \n",
    "        \n",
    "    def getResponse(self, user_input):       \n",
    "        if self.condition:\n",
    "            return self.condition(user_input)\n",
    "        else:\n",
    "            return self.message"
   ]
  },
  {
   "cell_type": "markdown",
   "metadata": {},
   "source": [
    "### Questionnaires"
   ]
  },
  {
   "cell_type": "code",
   "execution_count": 3,
   "metadata": {},
   "outputs": [],
   "source": [
    "class Questionnaire:\n",
    "    \"\"\"\n",
    "    Stores a graph of questions and runs it; keeps track of interactions using a context dictionary.\n",
    "    \"\"\"\n",
    "    def __init__(self, questionnaire_dict=None):\n",
    "        \"\"\"\n",
    "        Questionnaire dict to be used to build the instance\n",
    "        \"\"\"\n",
    "        self.context = dict()\n",
    "        \n",
    "        if questionnaire_dict:\n",
    "            self.questions = { qname: Question(qname,**qattrs) for qname, qattrs in questionnaire_dict.items() }\n",
    "            \n",
    "    \n",
    "    def sendQuestion(self, context):\n",
    "        questionId = context.data['current_question']\n",
    "        q = self.questions.get(questionId)\n",
    "        context.data['message']=q.promptMessage()\n",
    "        context.data['user_input']=''\n",
    "        context.data['input_type']=q.user_input_type\n",
    "        \n",
    "        input_options = q.options\n",
    "        if input_options:\n",
    "            context.data['input_options']=input_options\n",
    "            \n",
    "        input_options_text = q.options_text\n",
    "        if input_options_text:\n",
    "            context.data['input_options_text']=input_options_text\n",
    "\n",
    "        return context\n",
    "    \n",
    "    def getUserInput(self, context):\n",
    "        user_input = context.data['user_input']\n",
    "        questionId = context.data['current_question']\n",
    "        \n",
    "        q = self.questions.get(questionId)\n",
    "        q.saveUserInput(user_input)\n",
    "        context.data['responses'][q.name]=q.checkUserInput()\n",
    "        return context\n",
    "    \n",
    "    def sendResponse(self, context):\n",
    "        questionId = context.data['current_question']\n",
    "        q = self.questions.get(questionId)\n",
    "        response = q.respond()\n",
    "        context.data['message'] = response\n",
    "        return context\n",
    "    \n",
    "    def getNextQuestion(self,context):\n",
    "        currentQuestion = self.questions.get( context.data['current_question'] )\n",
    "        nextQuestion = currentQuestion.getNextQuestionName()\n",
    "        \n",
    "            \n",
    "        context.data['current_question'] = nextQuestion\n",
    "        \n",
    "        # clean non-relevant data from context\n",
    "        context.data.pop('message',None)\n",
    "        context.data.pop('user_input',None)\n",
    "        context.data.pop('input_type',None)\n",
    "        context.data.pop('input_options',None)\n",
    "        context.data.pop('input_options_text',None)\n",
    "        return context\n",
    "    \n",
    "    def run(self, context):\n",
    "        finish=False\n",
    "        \n",
    "        while not finish:\n",
    "            self.sendQuestion(context)\n",
    "            user_input = input(context.data['message'])\n",
    "            context.set_user_input(user_input)\n",
    "            self.getUserInput(context)\n",
    "            self.sendResponse(context)\n",
    "            print(context.data['message'])\n",
    "            self.getNextQuestion(context)\n",
    "            \n",
    "            next_q = context.data['current_question']\n",
    "            if next_q is None:\n",
    "                finish=True\n",
    "        \n",
    "        print(\"End of run\")\n",
    "        return context"
   ]
  },
  {
   "cell_type": "markdown",
   "metadata": {},
   "source": [
    "### Context"
   ]
  },
  {
   "cell_type": "code",
   "execution_count": 4,
   "metadata": {},
   "outputs": [],
   "source": [
    "class Context:\n",
    "    def __init__(self, **data):\n",
    "        self.data=data\n",
    "        self.data['responses']={}\n",
    "        \n",
    "    def set_user_input(self,user_input):\n",
    "        self.data['user_input']=user_input"
   ]
  },
  {
   "cell_type": "markdown",
   "metadata": {},
   "source": [
    "---"
   ]
  },
  {
   "cell_type": "markdown",
   "metadata": {},
   "source": [
    "## Building a questionnaire"
   ]
  },
  {
   "cell_type": "markdown",
   "metadata": {},
   "source": [
    "One way to build and store a questionnaire is by using a JSON-like strucutre (dict in Python):"
   ]
  },
  {
   "cell_type": "code",
   "execution_count": 5,
   "metadata": {},
   "outputs": [],
   "source": [
    "questionnaire = {\n",
    "    'q1': {\n",
    "        \"prompt\": \"Oi! Me chamo Lando! Sou um assistente de terras. Qual seu nome?\",\n",
    "        \"input_type\": \"text\",\n",
    "        \"next\":['q2']\n",
    "          },\n",
    "    'q2': {\n",
    "        \"prompt\": \"E sua idade?\",\n",
    "        \"input_type\": \"number\",\n",
    "        \"next\":['q3']\n",
    "    },\n",
    "    'q3': {\n",
    "        \"prompt\": \"Primeiro preciso saber sobre a situação do seu solo. Ele está degradado?\",\n",
    "        \"input_type\": \"choice\",\n",
    "        \"options\": [0,1],\n",
    "        \"options_text\": [\"não\",\"sim\"],\n",
    "        \"next\": ['q4']\n",
    "    },\n",
    "    'q4': {\n",
    "        \"prompt\": \"E pecuária? Tem pecuária na vizinhança?\",\n",
    "        \"input_type\": \"choice\",\n",
    "        \"options\": [0,1],\n",
    "        \"options_text\": [ \"não\", \"sim\"],\n",
    "        \"next\": ['q5']\n",
    "    },\n",
    "    'q5': {\n",
    "        \"prompt\": \"Tem risco de incêndio?\",\n",
    "        \"input_type\": \"choice\",\n",
    "        \"options\": [0,1],\n",
    "        \"options_text\": [ \"não\", \"sim\"],\n",
    "        \"next\": ['q6']\n",
    "    },\n",
    "    'q6': {\n",
    "        \"prompt\": \"Qual o potencial de regeneração natural?\",\n",
    "        \"input_type\": \"choice\",\n",
    "        \"options\": [0,1],\n",
    "        \"options_text\": [ \"baixo potencial\", \"alto potencial\"],\n",
    "        \"next\": ['q7','q8']\n",
    "    },\n",
    "    'q7':{\n",
    "        \"prompt\": \"Prefere plantar mudas ou semear?\",\n",
    "        \"input_type\": \"choice\",\n",
    "        \"options\": [0,1],\n",
    "        \"options_text\": [\"plantar mudas\", \"semear\"],\n",
    "        \"next\": ['q9', 'q10']\n",
    "    },\n",
    "    'q8':{\n",
    "        \"prompt\": \"Prefere manejar a regeneração natural ou não?\",\n",
    "        \"input_type\": \"choice\",\n",
    "        \"options\": [0,1],\n",
    "        \"options_text\": [\"não manejar\", \"manejar\"]\n",
    "    },\n",
    "    'q9':{\n",
    "        \"prompt\": \"Que tipo de muda?\",\n",
    "        \"input_type\": \"text\"\n",
    "    },\n",
    "    'q10':{\n",
    "        \"prompt\": \"Que sementes?\",\n",
    "        \"input_type\": \"text\"\n",
    "    }\n",
    "}"
   ]
  },
  {
   "cell_type": "markdown",
   "metadata": {},
   "source": [
    "Let's test it!"
   ]
  },
  {
   "cell_type": "markdown",
   "metadata": {},
   "source": [
    "---"
   ]
  },
  {
   "cell_type": "markdown",
   "metadata": {},
   "source": [
    "## Running the questionnaire: REST API messaging"
   ]
  },
  {
   "cell_type": "code",
   "execution_count": 6,
   "metadata": {},
   "outputs": [],
   "source": [
    "# Build questionnaire and responses\n",
    "q = Questionnaire(questionnaire)\n",
    "\n",
    "# Response to q1\n",
    "q.questions['q1'].attachResponse( Response( condition=lambda x: f\"Prazer em conhecê-lo, {x}\" ) )\n",
    "\n",
    "# Response to q2\n",
    "def cond(x):\n",
    "    if x>=50:\n",
    "        return \"Nunca é tarde para começar!\"\n",
    "    elif x>=30:\n",
    "        return \"Boa idade!\"\n",
    "    elif x>=18:\n",
    "        return \"É ótimo começar cedo!\"\n",
    "    else:\n",
    "        return \"Você tem certeza que deveria estar usando este app?\"\n",
    "q.questions['q2'].attachResponse( Response( condition=cond ) )\n",
    "\n",
    "# Response to q3\n",
    "q.questions['q3'].attachResponse( Response( condition=lambda x: 'Certo... antes você precisará recuperar seu solo.' if x==1 else 'Ótimo!' ) )\n",
    "\n",
    "# Response to q4\n",
    "q.questions['q4'].attachResponse( Response( condition=lambda x: 'Entendo... é importante que vc cerque a área, ok?' if x==1 else 'Bom!') )\n",
    "\n",
    "# Response to q5\n",
    "q.questions['q5'].attachResponse( Response( condition=lambda x: 'Que tal construir um aceiro?' if x==1 else 'Bom!' ) )"
   ]
  },
  {
   "cell_type": "code",
   "execution_count": 7,
   "metadata": {},
   "outputs": [
    {
     "data": {
      "text/plain": [
       "{'current_question': 'q1', 'responses': {}}"
      ]
     },
     "execution_count": 7,
     "metadata": {},
     "output_type": "execute_result"
    }
   ],
   "source": [
    "# Build context\n",
    "c = Context(current_question='q1')\n",
    "c.data"
   ]
  },
  {
   "cell_type": "markdown",
   "metadata": {},
   "source": [
    "### We send a question to user"
   ]
  },
  {
   "cell_type": "code",
   "execution_count": 8,
   "metadata": {},
   "outputs": [
    {
     "data": {
      "text/plain": [
       "{'current_question': 'q1',\n",
       " 'responses': {},\n",
       " 'message': 'Oi! Me chamo Lando! Sou um assistente de terras. Qual seu nome?',\n",
       " 'user_input': '',\n",
       " 'input_type': 'text'}"
      ]
     },
     "execution_count": 8,
     "metadata": {},
     "output_type": "execute_result"
    }
   ],
   "source": [
    "q.sendQuestion(context=c)\n",
    "c.data"
   ]
  },
  {
   "cell_type": "markdown",
   "metadata": {},
   "source": [
    "### User responds and we store input"
   ]
  },
  {
   "cell_type": "code",
   "execution_count": 9,
   "metadata": {},
   "outputs": [
    {
     "data": {
      "text/plain": [
       "{'current_question': 'q1',\n",
       " 'responses': {},\n",
       " 'message': 'Oi! Me chamo Lando! Sou um assistente de terras. Qual seu nome?',\n",
       " 'user_input': 'Pedro',\n",
       " 'input_type': 'text'}"
      ]
     },
     "execution_count": 9,
     "metadata": {},
     "output_type": "execute_result"
    }
   ],
   "source": [
    "c.set_user_input('Pedro')\n",
    "c.data"
   ]
  },
  {
   "cell_type": "markdown",
   "metadata": {},
   "source": [
    "data is sent to us..."
   ]
  },
  {
   "cell_type": "code",
   "execution_count": 10,
   "metadata": {},
   "outputs": [
    {
     "data": {
      "text/plain": [
       "{'current_question': 'q1',\n",
       " 'responses': {'q1': 'Pedro'},\n",
       " 'message': 'Oi! Me chamo Lando! Sou um assistente de terras. Qual seu nome?',\n",
       " 'user_input': 'Pedro',\n",
       " 'input_type': 'text'}"
      ]
     },
     "execution_count": 10,
     "metadata": {},
     "output_type": "execute_result"
    }
   ],
   "source": [
    "q.getUserInput(context=c)\n",
    "c.data"
   ]
  },
  {
   "cell_type": "markdown",
   "metadata": {},
   "source": [
    "### We send the response to user"
   ]
  },
  {
   "cell_type": "code",
   "execution_count": 11,
   "metadata": {},
   "outputs": [
    {
     "data": {
      "text/plain": [
       "{'current_question': 'q1',\n",
       " 'responses': {'q1': 'Pedro'},\n",
       " 'message': 'Prazer em conhecê-lo, Pedro',\n",
       " 'user_input': 'Pedro',\n",
       " 'input_type': 'text'}"
      ]
     },
     "execution_count": 11,
     "metadata": {},
     "output_type": "execute_result"
    }
   ],
   "source": [
    "q.sendResponse(context=c)\n",
    "c.data"
   ]
  },
  {
   "cell_type": "markdown",
   "metadata": {},
   "source": [
    "### User asks for the next question"
   ]
  },
  {
   "cell_type": "code",
   "execution_count": 12,
   "metadata": {},
   "outputs": [
    {
     "data": {
      "text/plain": [
       "{'current_question': 'q2', 'responses': {'q1': 'Pedro'}}"
      ]
     },
     "execution_count": 12,
     "metadata": {},
     "output_type": "execute_result"
    }
   ],
   "source": [
    "q.getNextQuestion(context=c)\n",
    "c.data"
   ]
  },
  {
   "cell_type": "markdown",
   "metadata": {},
   "source": [
    "---"
   ]
  },
  {
   "cell_type": "markdown",
   "metadata": {},
   "source": [
    "### Running the entire questionnaire"
   ]
  },
  {
   "cell_type": "code",
   "execution_count": 13,
   "metadata": {},
   "outputs": [
    {
     "name": "stdout",
     "output_type": "stream",
     "text": [
      "Oi! Me chamo Lando! Sou um assistente de terras. Qual seu nome?Pedro\n",
      "Prazer em conhecê-lo, Pedro\n",
      "E sua idade?32\n",
      "Boa idade!\n",
      "Primeiro preciso saber sobre a situação do seu solo. Ele está degradado? {0: 'não', 1: 'sim'}1\n",
      "Certo... antes você precisará recuperar seu solo.\n",
      "E pecuária? Tem pecuária na vizinhança? {0: 'não', 1: 'sim'}0\n",
      "Bom!\n",
      "Tem risco de incêndio? {0: 'não', 1: 'sim'}1\n",
      "Que tal construir um aceiro?\n",
      "Qual o potencial de regeneração natural? {0: 'baixo potencial', 1: 'alto potencial'}0\n",
      "None\n",
      "Prefere plantar mudas ou semear? {0: 'plantar mudas', 1: 'semear'}1\n",
      "None\n",
      "Que sementes?não sei\n",
      "None\n",
      "End of run\n"
     ]
    },
    {
     "data": {
      "text/plain": [
       "{'current_question': None,\n",
       " 'responses': {'q1': 'Pedro',\n",
       "  'q2': 32.0,\n",
       "  'q3': 1,\n",
       "  'q4': 0,\n",
       "  'q5': 1,\n",
       "  'q6': 0,\n",
       "  'q7': 1,\n",
       "  'q10': 'não sei'}}"
      ]
     },
     "execution_count": 13,
     "metadata": {},
     "output_type": "execute_result"
    }
   ],
   "source": [
    "c = Context(current_question='q1')\n",
    "q.run(c)\n",
    "c.data"
   ]
  }
 ],
 "metadata": {
  "kernelspec": {
   "display_name": "Python 3",
   "language": "python",
   "name": "python3"
  },
  "language_info": {
   "codemirror_mode": {
    "name": "ipython",
    "version": 3
   },
   "file_extension": ".py",
   "mimetype": "text/x-python",
   "name": "python",
   "nbconvert_exporter": "python",
   "pygments_lexer": "ipython3",
   "version": "3.6.5"
  }
 },
 "nbformat": 4,
 "nbformat_minor": 2
}
